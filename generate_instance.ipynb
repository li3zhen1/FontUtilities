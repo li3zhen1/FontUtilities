{
 "cells": [
  {
   "cell_type": "code",
   "execution_count": 1,
   "metadata": {},
   "outputs": [],
   "source": [
    "sf_pro_path = \"/Library/Fonts/SF-Pro.ttf\"\n",
    "from fontTools.ttLib import TTFont, tables\n",
    "font = TTFont(sf_pro_path)"
   ]
  },
  {
   "cell_type": "code",
   "execution_count": 3,
   "metadata": {},
   "outputs": [],
   "source": [
    "from fontTools.varLib.instancer import instantiateVariableFont\n",
    "    # <!-- Regular -->\n",
    "    # <!-- PostScript: SFPro-Regular -->\n",
    "    # <NamedInstance flags=\"0x0\" postscriptNameID=\"336\" subfamilyNameID=\"335\">\n",
    "    #   <coord axis=\"wdth\" value=\"100.0\"/>\n",
    "    #   <coord axis=\"opsz\" value=\"28.0\"/>\n",
    "    #   <coord axis=\"wght\" value=\"400.0\"/>\n",
    "    # </NamedInstance>\n"
   ]
  },
  {
   "cell_type": "code",
   "execution_count": 4,
   "metadata": {},
   "outputs": [],
   "source": [
    "\n",
    "single_instance: TTFont = instantiateVariableFont(font, axisLimits={\n",
    "    'wdth': 100.0,\n",
    "    'opsz': 17.0,\n",
    "    'wght': 360.0\n",
    "})\n",
    "\n",
    "\n"
   ]
  },
  {
   "cell_type": "code",
   "execution_count": 5,
   "metadata": {},
   "outputs": [
    {
     "name": "stdout",
     "output_type": "stream",
     "text": [
      "SF Pro\n",
      "SF Pro; 19.0d7e1; 2023-06-12\n",
      "SF Pro\n",
      "SFPro-Regular\n",
      "SFPro\n"
     ]
    },
    {
     "ename": "AttributeError",
     "evalue": "'table__g_l_y_f' object has no attribute 'subset'",
     "output_type": "error",
     "traceback": [
      "\u001b[0;31m---------------------------------------------------------------------------\u001b[0m",
      "\u001b[0;31mAttributeError\u001b[0m                            Traceback (most recent call last)",
      "\u001b[1;32m/Users/lizhen/Projects/afdko-playground/ft.ipynb Cell 5\u001b[0m line \u001b[0;36m1\n\u001b[1;32m      <a href='vscode-notebook-cell:/Users/lizhen/Projects/afdko-playground/ft.ipynb#W4sZmlsZQ%3D%3D?line=8'>9</a>\u001b[0m         single_instance[\u001b[39m'\u001b[39m\u001b[39mname\u001b[39m\u001b[39m'\u001b[39m]\u001b[39m.\u001b[39msetName(\n\u001b[1;32m     <a href='vscode-notebook-cell:/Users/lizhen/Projects/afdko-playground/ft.ipynb#W4sZmlsZQ%3D%3D?line=9'>10</a>\u001b[0m             nr_str\u001b[39m.\u001b[39mreplace(\u001b[39m\"\u001b[39m\u001b[39mSF\u001b[39m\u001b[39m\"\u001b[39m, \u001b[39m\"\u001b[39m\u001b[39mATL\u001b[39m\u001b[39m\"\u001b[39m),\n\u001b[1;32m     <a href='vscode-notebook-cell:/Users/lizhen/Projects/afdko-playground/ft.ipynb#W4sZmlsZQ%3D%3D?line=10'>11</a>\u001b[0m             nr\u001b[39m.\u001b[39mnameID, nr\u001b[39m.\u001b[39mplatformID, nr\u001b[39m.\u001b[39mplatEncID, nr\u001b[39m.\u001b[39mlangID\n\u001b[1;32m     <a href='vscode-notebook-cell:/Users/lizhen/Projects/afdko-playground/ft.ipynb#W4sZmlsZQ%3D%3D?line=11'>12</a>\u001b[0m         )\n\u001b[1;32m     <a href='vscode-notebook-cell:/Users/lizhen/Projects/afdko-playground/ft.ipynb#W4sZmlsZQ%3D%3D?line=13'>14</a>\u001b[0m \u001b[39m# subset font glyphs\u001b[39;00m\n\u001b[0;32m---> <a href='vscode-notebook-cell:/Users/lizhen/Projects/afdko-playground/ft.ipynb#W4sZmlsZQ%3D%3D?line=14'>15</a>\u001b[0m single_instance[\u001b[39m'\u001b[39;49m\u001b[39mglyf\u001b[39;49m\u001b[39m'\u001b[39;49m]\u001b[39m.\u001b[39;49msubset(glyphs\u001b[39m=\u001b[39m[\u001b[39m'\u001b[39m\u001b[39ma\u001b[39m\u001b[39m'\u001b[39m, \u001b[39m'\u001b[39m\u001b[39mb\u001b[39m\u001b[39m'\u001b[39m, \u001b[39m'\u001b[39m\u001b[39mc\u001b[39m\u001b[39m'\u001b[39m, \u001b[39m'\u001b[39m\u001b[39md\u001b[39m\u001b[39m'\u001b[39m, \u001b[39m'\u001b[39m\u001b[39me\u001b[39m\u001b[39m'\u001b[39m, \u001b[39m'\u001b[39m\u001b[39mf\u001b[39m\u001b[39m'\u001b[39m, \u001b[39m'\u001b[39m\u001b[39mg\u001b[39m\u001b[39m'\u001b[39m, \u001b[39m'\u001b[39m\u001b[39mh\u001b[39m\u001b[39m'\u001b[39m, \u001b[39m'\u001b[39m\u001b[39mi\u001b[39m\u001b[39m'\u001b[39m, \u001b[39m'\u001b[39m\u001b[39mj\u001b[39m\u001b[39m'\u001b[39m])\n\u001b[1;32m     <a href='vscode-notebook-cell:/Users/lizhen/Projects/afdko-playground/ft.ipynb#W4sZmlsZQ%3D%3D?line=16'>17</a>\u001b[0m single_instance\u001b[39m.\u001b[39msave(\u001b[39m\"\u001b[39m\u001b[39mATL Pro Text.ttf\u001b[39m\u001b[39m\"\u001b[39m)\n\u001b[1;32m     <a href='vscode-notebook-cell:/Users/lizhen/Projects/afdko-playground/ft.ipynb#W4sZmlsZQ%3D%3D?line=17'>18</a>\u001b[0m \u001b[39m# new_family_name = \"NewFamilyName\"\u001b[39;00m\n\u001b[1;32m     <a href='vscode-notebook-cell:/Users/lizhen/Projects/afdko-playground/ft.ipynb#W4sZmlsZQ%3D%3D?line=18'>19</a>\u001b[0m \u001b[39m# for record in font['name'].names:\u001b[39;00m\n\u001b[1;32m     <a href='vscode-notebook-cell:/Users/lizhen/Projects/afdko-playground/ft.ipynb#W4sZmlsZQ%3D%3D?line=19'>20</a>\u001b[0m \u001b[39m#     if record.nameID == 1:  # family name\u001b[39;00m\n\u001b[1;32m     <a href='vscode-notebook-cell:/Users/lizhen/Projects/afdko-playground/ft.ipynb#W4sZmlsZQ%3D%3D?line=20'>21</a>\u001b[0m \u001b[39m#         record.string = new_family_name.encode('utf-16-be')\u001b[39;00m\n",
      "\u001b[0;31mAttributeError\u001b[0m: 'table__g_l_y_f' object has no attribute 'subset'"
     ]
    }
   ],
   "source": [
    "\n",
    "from fontTools.ttLib.tables import _n_a_m_e, _g_l_y_f\n",
    "\n",
    "# change install name of the font\n",
    "\n",
    "for nr in single_instance['name'].names:\n",
    "    nr_str = nr.__str__() \n",
    "    if \"SF\" in nr_str :\n",
    "        print(nr_str)\n",
    "        single_instance['name'].setName(\n",
    "            nr_str.replace(\"SF\", \"ATL\"),\n",
    "            nr.nameID, nr.platformID, nr.platEncID, nr.langID\n",
    "        )\n",
    "\n",
    "# subset font glyphs\n",
    "# single_instance['glyf']\n",
    "single_instance.save(\"ATL Pro Text.ttf\")\n",
    "# new_family_name = \"NewFaimmilyName\"\n",
    "# for record in font['name'].names:\n",
    "#     if record.nameID == 1:  # family name\n",
    "#         record.string = new_family_name.encode('utf-16-be')"
   ]
  },
  {
   "cell_type": "code",
   "execution_count": 6,
   "metadata": {},
   "outputs": [
    {
     "ename": "SyntaxError",
     "evalue": "invalid syntax (2256129040.py, line 1)",
     "output_type": "error",
     "traceback": [
      "\u001b[0;36m  Cell \u001b[0;32mIn[6], line 1\u001b[0;36m\u001b[0m\n\u001b[0;31m    pyftsubset \"ATL Pro Text.ttf\" --output-file=\"ATL Pro Text Subset.ttf\" a\u001b[0m\n\u001b[0m               ^\u001b[0m\n\u001b[0;31mSyntaxError\u001b[0m\u001b[0;31m:\u001b[0m invalid syntax\n"
     ]
    }
   ],
   "source": [
    "pyftsubset \"/Library/Fonts/SF-Pro-Text-Regular.otf\" --output-file=\"ATL Pro Text Subset.ttf\" --text-file=\"output.txt\""
   ]
  },
  {
   "cell_type": "code",
   "execution_count": 8,
   "metadata": {},
   "outputs": [
    {
     "name": "stdout",
     "output_type": "stream",
     "text": [
      "SF Pro Text\n",
      "SF Pro Text Regular; 19.0d7e1; 2023-06-12\n",
      "SF Pro Text Regular\n",
      "SFProText-Regular\n"
     ]
    }
   ],
   "source": [
    "from fontTools.ttLib import TTFont, tables\n",
    "font = TTFont(\"ATL Pro Text Subset.ttf\")\n",
    "\n",
    "for nr in font['name'].names:\n",
    "    nr_str = nr.__str__() \n",
    "    if \"SF\" in nr_str :\n",
    "        print(nr_str)\n",
    "        font['name'].setName(\n",
    "            nr_str.replace(\"SF\", \"ATL\"),\n",
    "            nr.nameID, nr.platformID, nr.platEncID, nr.langID\n",
    "        )\n",
    "\n",
    "# subset font glyphs\n",
    "# single_instance['glyf']\n",
    "font.save(\"ATL Pro Text Subset400.ttf\")"
   ]
  }
 ],
 "metadata": {
  "kernelspec": {
   "display_name": "3.11",
   "language": "python",
   "name": "python3"
  },
  "language_info": {
   "codemirror_mode": {
    "name": "ipython",
    "version": 3
   },
   "file_extension": ".py",
   "mimetype": "text/x-python",
   "name": "python",
   "nbconvert_exporter": "python",
   "pygments_lexer": "ipython3",
   "version": "3.11.0"
  },
  "orig_nbformat": 4
 },
 "nbformat": 4,
 "nbformat_minor": 2
}
